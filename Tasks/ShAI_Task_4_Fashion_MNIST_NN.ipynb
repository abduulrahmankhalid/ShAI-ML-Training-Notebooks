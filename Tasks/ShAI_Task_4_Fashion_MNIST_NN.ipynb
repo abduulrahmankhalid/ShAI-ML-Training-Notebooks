{
  "cells": [
    {
      "cell_type": "markdown",
      "metadata": {
        "pycharm": {
          "name": "#%% md\n"
        },
        "id": "vL0s9O_4GHVJ"
      },
      "source": [
        "# Attempt to solve Fashion MNIST Dataset using Dense Neural Network\n",
        "## Bibliography \n",
        "* Keras official Tutorial\n",
        "* Deep Learning with Python by François Chollet\n",
        "\n",
        "## About DataSet \n",
        "**Fashion-MNIST is a dataset of Zalando's article images—consisting of a training set of 60,000 examples and a test set of 10,000 examples. Each example is a 28x28 grayscale image, associated with a label from 10 classes. Zalando intends Fashion-MNIST to serve as a direct drop-in replacement for the original MNIST dataset for benchmarking machine learning algorithms. It shares the same image size and structure of training and testing splits.**\n"
      ]
    },
    {
      "cell_type": "code",
      "execution_count": null,
      "metadata": {
        "_cell_guid": "b1076dfc-b9ad-4769-8c92-a6c4dae69d19",
        "_uuid": "8f2839f25d086af736a60e9eeb907d3b93b6e0e5",
        "pycharm": {
          "name": "#%%\n",
          "is_executing": true
        },
        "id": "a9uUU46nGHVS"
      },
      "outputs": [],
      "source": [
        "import numpy as np \n",
        "import pandas as pd\n",
        "import matplotlib.pyplot as plt\n",
        "import seaborn as sns\n",
        "import keras\n",
        "from keras import layers, models\n",
        "from sklearn.model_selection import train_test_split\n",
        "from sklearn.metrics import classification_report,confusion_matrix\n",
        "import os\n",
        "import tensorflow"
      ]
    },
    {
      "cell_type": "markdown",
      "source": [
        "# Load Dataset and Split it to test and train set"
      ],
      "metadata": {
        "collapsed": false,
        "pycharm": {
          "name": "#%% md\n"
        },
        "id": "arDfmGLrGHVW"
      }
    },
    {
      "cell_type": "markdown",
      "source": [
        "see this link\n",
        "https://medium.com/the-data-science-publication/how-to-import-and-display-the-fashion-mnist-dataset-using-tensorflow-e72522f684d0"
      ],
      "metadata": {
        "collapsed": false,
        "pycharm": {
          "name": "#%% md\n"
        },
        "id": "swOIhnuPGHVZ"
      }
    },
    {
      "cell_type": "code",
      "execution_count": null,
      "metadata": {
        "_cell_guid": "79c7e3d0-c299-4dcb-8224-4455121ee9b0",
        "_uuid": "d629ff2d2480ee46fbb7e2d37f6b5fab8052498a",
        "pycharm": {
          "name": "#%%\n"
        },
        "id": "xSZV63jLGHVa"
      },
      "outputs": [],
      "source": [
        "#Getting training and testing data from tensorflow\n",
        "from tensorflow.keras.datasets import fashion_mnist\n",
        "\n",
        "(X_train, y_train), (X_test, y_test) = fashion_mnist.load_data()"
      ]
    },
    {
      "cell_type": "markdown",
      "source": [
        "28*28 image pixels"
      ],
      "metadata": {
        "collapsed": false,
        "pycharm": {
          "name": "#%% md\n"
        },
        "id": "psmkCsGWGHVb"
      }
    },
    {
      "cell_type": "code",
      "execution_count": null,
      "metadata": {
        "pycharm": {
          "name": "#%%\n",
          "is_executing": true
        },
        "id": "ROn98juWGHVc",
        "outputId": "e0c52f2c-77b2-4983-d53c-bb3b41d40633",
        "colab": {
          "base_uri": "https://localhost:8080/"
        }
      },
      "outputs": [
        {
          "output_type": "stream",
          "name": "stdout",
          "text": [
            "X_train: (60000, 28, 28)\n",
            "Y_train: (60000,)\n"
          ]
        }
      ],
      "source": [
        "#Training Set shape\n",
        "print('X_train: ' + str(X_train.shape))\n",
        "print('Y_train: ' + str(y_train.shape))"
      ]
    },
    {
      "cell_type": "code",
      "execution_count": null,
      "metadata": {
        "pycharm": {
          "name": "#%%\n",
          "is_executing": true
        },
        "id": "JKoZKqrfGHVd",
        "outputId": "ff5f29b1-87fa-4bc5-ddb4-55a29a6ea9e2",
        "colab": {
          "base_uri": "https://localhost:8080/"
        }
      },
      "outputs": [
        {
          "output_type": "stream",
          "name": "stdout",
          "text": [
            "X_test:  (10000, 28, 28)\n",
            "Y_test:  (10000,)\n"
          ]
        }
      ],
      "source": [
        "#Test Set consists of 10000 samples with one label field and 28*28 image pixels\n",
        "print('X_test:  '  + str(X_test.shape))\n",
        "print('Y_test:  '  + str(y_test.shape))"
      ]
    },
    {
      "cell_type": "code",
      "source": [
        "X_train = X_train.reshape(-1,28*28)\n",
        "\n",
        "X_test = X_test.reshape(-1,28*28)"
      ],
      "metadata": {
        "id": "L-XggxQ55AtW"
      },
      "execution_count": null,
      "outputs": []
    },
    {
      "cell_type": "code",
      "execution_count": null,
      "metadata": {
        "pycharm": {
          "name": "#%%\n"
        },
        "id": "QBrG6j-FGHVe"
      },
      "outputs": [],
      "source": [
        "#Labels from 0 to 9 are following Items \n",
        "class_names = ['T-shirt/top', 'Trouser', 'Pullover', 'Dress', 'Coat',\n",
        "               'Sandal', 'Shirt', 'Sneaker', 'Bag', 'Ankle boot']"
      ]
    },
    {
      "cell_type": "markdown",
      "source": [
        "Split training data to train and valid"
      ],
      "metadata": {
        "collapsed": false,
        "pycharm": {
          "name": "#%% md\n"
        },
        "id": "j5adoBAKGHVf"
      }
    },
    {
      "cell_type": "code",
      "execution_count": null,
      "metadata": {
        "pycharm": {
          "name": "#%%\n",
          "is_executing": true
        },
        "id": "r2-fV04OGHVg"
      },
      "outputs": [],
      "source": [
        "X_train, X_val, y_train, y_val = train_test_split(X_train,y_train, test_size=.10, random_state=0, stratify=y_train)"
      ]
    },
    {
      "cell_type": "code",
      "source": [
        "#Training Set shape\n",
        "print('X_train: ' + str(X_train.shape))\n",
        "print('Y_train: ' + str(y_train.shape))"
      ],
      "metadata": {
        "id": "oMGCEpL123Mw",
        "outputId": "5e6f4e00-b845-437a-9fcb-3d16dab835f0",
        "colab": {
          "base_uri": "https://localhost:8080/"
        }
      },
      "execution_count": null,
      "outputs": [
        {
          "output_type": "stream",
          "name": "stdout",
          "text": [
            "X_train: (54000, 784)\n",
            "Y_train: (54000,)\n"
          ]
        }
      ]
    },
    {
      "cell_type": "code",
      "source": [
        "#Training Set shape\n",
        "print('X_val: ' + str(X_val.shape))\n",
        "print('y_val: ' + str(y_val.shape))"
      ],
      "metadata": {
        "id": "Wu-fKQMG23E7",
        "outputId": "7a9510c3-d37a-4756-93aa-a9f1cd8f7948",
        "colab": {
          "base_uri": "https://localhost:8080/"
        }
      },
      "execution_count": null,
      "outputs": [
        {
          "output_type": "stream",
          "name": "stdout",
          "text": [
            "X_val: (6000, 784)\n",
            "y_val: (6000,)\n"
          ]
        }
      ]
    },
    {
      "cell_type": "markdown",
      "metadata": {
        "pycharm": {
          "name": "#%% md\n"
        },
        "id": "0-S8DzcqGHVh"
      },
      "source": [
        "## Some images with their labels "
      ]
    },
    {
      "cell_type": "code",
      "execution_count": null,
      "metadata": {
        "pycharm": {
          "name": "#%%\n"
        },
        "id": "PJiAz4vOGHVh",
        "outputId": "084d2465-1c6d-4d20-c73f-ef798829720b",
        "colab": {
          "base_uri": "https://localhost:8080/",
          "height": 592
        }
      },
      "outputs": [
        {
          "output_type": "display_data",
          "data": {
            "text/plain": [
              "<Figure size 720x720 with 25 Axes>"
            ],
            "image/png": "[encoded data removed]"
          },
          "metadata": {}
        }
      ],
      "source": [
        "plt.figure(figsize=(10,10))\n",
        "for i in range(25):\n",
        "    plt.subplot(5,5,i+1)\n",
        "    plt.xticks([])\n",
        "    plt.yticks([])\n",
        "    plt.grid(False)\n",
        "    plt.imshow(np.array(X_train[i]).reshape(28,28), cmap=plt.cm.binary)\n",
        "    plt.xlabel(class_names[y_train[i]])\n",
        "plt.show()"
      ]
    },
    {
      "cell_type": "code",
      "execution_count": null,
      "metadata": {
        "pycharm": {
          "name": "#%%\n"
        },
        "id": "N_f0YS2NGHVm"
      },
      "outputs": [],
      "source": [
        "# Rescaling training to range 0 to 1 by dividing them by 255\n",
        "X_train = X_train / 255.0\n",
        "\n",
        "X_val = X_val / 255.0\n",
        "\n",
        "X_test = X_test / 255.0"
      ]
    },
    {
      "cell_type": "code",
      "source": [
        "y_train[0]"
      ],
      "metadata": {
        "id": "1EQq-9vx4Ens",
        "outputId": "0fb0aefc-1bb8-4b63-ec91-510c685f48b1",
        "colab": {
          "base_uri": "https://localhost:8080/"
        }
      },
      "execution_count": null,
      "outputs": [
        {
          "output_type": "execute_result",
          "data": {
            "text/plain": [
              "6"
            ]
          },
          "metadata": {},
          "execution_count": 55
        }
      ]
    },
    {
      "cell_type": "markdown",
      "metadata": {
        "pycharm": {
          "name": "#%% md\n"
        },
        "id": "DGs20rcZGHVn"
      },
      "source": [
        "**Creating a Deep Neural Network with any number of layer you want.**"
      ]
    },
    {
      "cell_type": "code",
      "execution_count": null,
      "metadata": {
        "pycharm": {
          "name": "#%%\n"
        },
        "id": "NdCdSICBGHVo"
      },
      "outputs": [],
      "source": [
        "model = models.Sequential()\n",
        "\n",
        "model.add(layers.Dense(256,activation='relu',input_shape=(784,)))\n",
        "\n",
        "model.add(layers.Dropout(0.25))\n",
        "\n",
        "model.add(layers.Dense(256,activation='relu'))\n",
        "\n",
        "model.add(layers.Dropout(0.25))\n",
        "\n",
        "model.add(layers.Dense(256,activation='relu'))\n",
        "\n",
        "model.add(layers.Dropout(0.25))\n",
        "\n",
        "model.add(layers.Dense(10,activation='softmax'))"
      ]
    },
    {
      "cell_type": "markdown",
      "metadata": {
        "pycharm": {
          "name": "#%% md\n"
        },
        "id": "OKBI2zyHGHVo"
      },
      "source": [
        "**Compiling the model.**"
      ]
    },
    {
      "cell_type": "code",
      "execution_count": null,
      "metadata": {
        "pycharm": {
          "name": "#%%\n"
        },
        "id": "CLzuHgkSGHVp",
        "outputId": "2305600d-6fa8-4bd6-8974-c8336f921e91",
        "colab": {
          "base_uri": "https://localhost:8080/"
        }
      },
      "outputs": [
        {
          "output_type": "stream",
          "name": "stdout",
          "text": [
            "Model: \"sequential_50\"\n",
            "_________________________________________________________________\n",
            " Layer (type)                Output Shape              Param #   \n",
            "=================================================================\n",
            " dense_262 (Dense)           (None, 256)               200960    \n",
            "                                                                 \n",
            " dropout_212 (Dropout)       (None, 256)               0         \n",
            "                                                                 \n",
            " dense_263 (Dense)           (None, 256)               65792     \n",
            "                                                                 \n",
            " dropout_213 (Dropout)       (None, 256)               0         \n",
            "                                                                 \n",
            " dense_264 (Dense)           (None, 256)               65792     \n",
            "                                                                 \n",
            " dropout_214 (Dropout)       (None, 256)               0         \n",
            "                                                                 \n",
            " dense_265 (Dense)           (None, 10)                2570      \n",
            "                                                                 \n",
            "=================================================================\n",
            "Total params: 335,114\n",
            "Trainable params: 335,114\n",
            "Non-trainable params: 0\n",
            "_________________________________________________________________\n"
          ]
        }
      ],
      "source": [
        "model.compile(loss='sparse_categorical_crossentropy', optimizer='adam', metrics='accuracy')\n",
        "\n",
        "model.summary()"
      ]
    },
    {
      "cell_type": "code",
      "source": [
        "Early_Stopping = keras.callbacks.EarlyStopping(monitor = 'val_accuracy', patience = 10 , restore_best_weights = True, verbose=1)\n",
        "\n",
        "callbacks = [Early_Stopping]"
      ],
      "metadata": {
        "id": "wrVsed1285sg"
      },
      "execution_count": null,
      "outputs": []
    },
    {
      "cell_type": "markdown",
      "metadata": {
        "pycharm": {
          "name": "#%% md\n"
        },
        "id": "90oqDLNZGHVp"
      },
      "source": [
        "**Training model with a part of training data and evaluating it with another part of training data\n",
        "and get more than 90% val_acc**"
      ]
    },
    {
      "cell_type": "code",
      "execution_count": null,
      "metadata": {
        "pycharm": {
          "name": "#%%\n"
        },
        "id": "BksRrKGBGHVq",
        "outputId": "a3c61eaf-582f-4156-fedf-1580ec113f15",
        "colab": {
          "base_uri": "https://localhost:8080/"
        }
      },
      "outputs": [
        {
          "output_type": "stream",
          "name": "stdout",
          "text": [
            "Epoch 1/100\n",
            "844/844 [==============================] - 5s 4ms/step - loss: 0.5883 - accuracy: 0.7867 - val_loss: 0.4063 - val_accuracy: 0.8513\n",
            "Epoch 2/100\n",
            "844/844 [==============================] - 3s 4ms/step - loss: 0.4281 - accuracy: 0.8438 - val_loss: 0.3818 - val_accuracy: 0.8580\n",
            "Epoch 3/100\n",
            "844/844 [==============================] - 3s 4ms/step - loss: 0.3939 - accuracy: 0.8550 - val_loss: 0.3455 - val_accuracy: 0.8717\n",
            "Epoch 4/100\n",
            "844/844 [==============================] - 3s 4ms/step - loss: 0.3706 - accuracy: 0.8637 - val_loss: 0.3332 - val_accuracy: 0.8725\n",
            "Epoch 5/100\n",
            "844/844 [==============================] - 3s 4ms/step - loss: 0.3560 - accuracy: 0.8695 - val_loss: 0.3304 - val_accuracy: 0.8773\n",
            "Epoch 6/100\n",
            "844/844 [==============================] - 3s 4ms/step - loss: 0.3433 - accuracy: 0.8743 - val_loss: 0.3239 - val_accuracy: 0.8747\n",
            "Epoch 7/100\n",
            "844/844 [==============================] - 3s 4ms/step - loss: 0.3336 - accuracy: 0.8760 - val_loss: 0.3112 - val_accuracy: 0.8853\n",
            "Epoch 8/100\n",
            "844/844 [==============================] - 3s 4ms/step - loss: 0.3272 - accuracy: 0.8802 - val_loss: 0.3075 - val_accuracy: 0.8875\n",
            "Epoch 9/100\n",
            "844/844 [==============================] - 3s 4ms/step - loss: 0.3144 - accuracy: 0.8831 - val_loss: 0.3096 - val_accuracy: 0.8892\n",
            "Epoch 10/100\n",
            "844/844 [==============================] - 3s 4ms/step - loss: 0.3126 - accuracy: 0.8834 - val_loss: 0.3023 - val_accuracy: 0.8873\n",
            "Epoch 11/100\n",
            "844/844 [==============================] - 4s 4ms/step - loss: 0.3050 - accuracy: 0.8868 - val_loss: 0.3097 - val_accuracy: 0.8837\n",
            "Epoch 12/100\n",
            "844/844 [==============================] - 3s 4ms/step - loss: 0.2958 - accuracy: 0.8911 - val_loss: 0.3139 - val_accuracy: 0.8848\n",
            "Epoch 13/100\n",
            "844/844 [==============================] - 4s 4ms/step - loss: 0.2905 - accuracy: 0.8921 - val_loss: 0.2914 - val_accuracy: 0.8923\n",
            "Epoch 14/100\n",
            "844/844 [==============================] - 3s 4ms/step - loss: 0.2857 - accuracy: 0.8931 - val_loss: 0.2999 - val_accuracy: 0.8898\n",
            "Epoch 15/100\n",
            "844/844 [==============================] - 4s 4ms/step - loss: 0.2801 - accuracy: 0.8955 - val_loss: 0.2974 - val_accuracy: 0.8902\n",
            "Epoch 16/100\n",
            "844/844 [==============================] - 3s 4ms/step - loss: 0.2801 - accuracy: 0.8968 - val_loss: 0.3088 - val_accuracy: 0.8802\n",
            "Epoch 17/100\n",
            "844/844 [==============================] - 3s 4ms/step - loss: 0.2776 - accuracy: 0.8966 - val_loss: 0.3126 - val_accuracy: 0.8878\n",
            "Epoch 18/100\n",
            "844/844 [==============================] - 3s 4ms/step - loss: 0.2719 - accuracy: 0.8983 - val_loss: 0.2916 - val_accuracy: 0.8957\n",
            "Epoch 19/100\n",
            "844/844 [==============================] - 3s 4ms/step - loss: 0.2688 - accuracy: 0.9001 - val_loss: 0.3067 - val_accuracy: 0.8908\n",
            "Epoch 20/100\n",
            "844/844 [==============================] - 3s 4ms/step - loss: 0.2663 - accuracy: 0.9021 - val_loss: 0.3109 - val_accuracy: 0.8885\n",
            "Epoch 21/100\n",
            "844/844 [==============================] - 3s 4ms/step - loss: 0.2617 - accuracy: 0.9031 - val_loss: 0.3099 - val_accuracy: 0.8918\n",
            "Epoch 22/100\n",
            "844/844 [==============================] - 3s 4ms/step - loss: 0.2614 - accuracy: 0.9020 - val_loss: 0.2848 - val_accuracy: 0.8928\n",
            "Epoch 23/100\n",
            "844/844 [==============================] - 3s 4ms/step - loss: 0.2519 - accuracy: 0.9066 - val_loss: 0.2969 - val_accuracy: 0.8933\n",
            "Epoch 24/100\n",
            "844/844 [==============================] - 3s 3ms/step - loss: 0.2518 - accuracy: 0.9060 - val_loss: 0.2845 - val_accuracy: 0.8980\n",
            "Epoch 25/100\n",
            "844/844 [==============================] - 3s 4ms/step - loss: 0.2492 - accuracy: 0.9057 - val_loss: 0.2923 - val_accuracy: 0.8958\n",
            "Epoch 26/100\n",
            "844/844 [==============================] - 3s 4ms/step - loss: 0.2502 - accuracy: 0.9065 - val_loss: 0.2841 - val_accuracy: 0.8965\n",
            "Epoch 27/100\n",
            "844/844 [==============================] - 3s 4ms/step - loss: 0.2468 - accuracy: 0.9077 - val_loss: 0.2934 - val_accuracy: 0.8958\n",
            "Epoch 28/100\n",
            "844/844 [==============================] - 3s 4ms/step - loss: 0.2436 - accuracy: 0.9096 - val_loss: 0.2847 - val_accuracy: 0.9003\n",
            "Epoch 29/100\n",
            "844/844 [==============================] - 3s 3ms/step - loss: 0.2390 - accuracy: 0.9106 - val_loss: 0.2917 - val_accuracy: 0.8985\n",
            "Epoch 30/100\n",
            "844/844 [==============================] - 4s 4ms/step - loss: 0.2391 - accuracy: 0.9098 - val_loss: 0.2885 - val_accuracy: 0.9002\n",
            "Epoch 31/100\n",
            "844/844 [==============================] - 3s 4ms/step - loss: 0.2398 - accuracy: 0.9103 - val_loss: 0.2926 - val_accuracy: 0.9020\n",
            "Epoch 32/100\n",
            "844/844 [==============================] - 3s 4ms/step - loss: 0.2383 - accuracy: 0.9109 - val_loss: 0.3043 - val_accuracy: 0.8970\n",
            "Epoch 33/100\n",
            "844/844 [==============================] - 4s 4ms/step - loss: 0.2298 - accuracy: 0.9137 - val_loss: 0.2957 - val_accuracy: 0.8982\n",
            "Epoch 34/100\n",
            "844/844 [==============================] - 4s 4ms/step - loss: 0.2343 - accuracy: 0.9121 - val_loss: 0.2905 - val_accuracy: 0.9010\n",
            "Epoch 35/100\n",
            "844/844 [==============================] - 3s 4ms/step - loss: 0.2272 - accuracy: 0.9152 - val_loss: 0.2927 - val_accuracy: 0.9007\n",
            "Epoch 36/100\n",
            "844/844 [==============================] - 3s 4ms/step - loss: 0.2261 - accuracy: 0.9153 - val_loss: 0.2876 - val_accuracy: 0.8997\n",
            "Epoch 37/100\n",
            "844/844 [==============================] - 3s 4ms/step - loss: 0.2244 - accuracy: 0.9151 - val_loss: 0.2941 - val_accuracy: 0.8990\n",
            "Epoch 38/100\n",
            "844/844 [==============================] - 4s 4ms/step - loss: 0.2221 - accuracy: 0.9170 - val_loss: 0.2833 - val_accuracy: 0.9000\n",
            "Epoch 39/100\n",
            "844/844 [==============================] - 3s 4ms/step - loss: 0.2219 - accuracy: 0.9167 - val_loss: 0.2883 - val_accuracy: 0.9005\n",
            "Epoch 40/100\n",
            "844/844 [==============================] - 3s 4ms/step - loss: 0.2174 - accuracy: 0.9182 - val_loss: 0.2900 - val_accuracy: 0.9005\n",
            "Epoch 41/100\n",
            "836/844 [============================>.] - ETA: 0s - loss: 0.2213 - accuracy: 0.9181Restoring model weights from the end of the best epoch: 31.\n",
            "844/844 [==============================] - 3s 4ms/step - loss: 0.2214 - accuracy: 0.9181 - val_loss: 0.3069 - val_accuracy: 0.8982\n",
            "Epoch 41: early stopping\n"
          ]
        }
      ],
      "source": [
        "history = model.fit(X_train,y_train, validation_data=(X_val,y_val), epochs=100, batch_size=64, callbacks=callbacks)"
      ]
    },
    {
      "cell_type": "markdown",
      "source": [
        "# Visualize Model Training History in Keras"
      ],
      "metadata": {
        "collapsed": false,
        "pycharm": {
          "name": "#%% md\n"
        },
        "id": "7PMxrzNfGHVr"
      }
    },
    {
      "cell_type": "markdown",
      "source": [
        "See this link\n",
        "https://machinelearningmastery.com/display-deep-learning-model-training-history-in-keras/"
      ],
      "metadata": {
        "collapsed": false,
        "pycharm": {
          "name": "#%% md\n"
        },
        "id": "P5PWPqCxGHVr"
      }
    },
    {
      "cell_type": "code",
      "execution_count": null,
      "outputs": [
        {
          "output_type": "display_data",
          "data": {
            "text/plain": [
              "<Figure size 432x288 with 1 Axes>"
            ],
            "image/png": "[encoded data removed]"
          },
          "metadata": {
            "needs_background": "light"
          }
        }
      ],
      "source": [
        "# summarize history for accuracy\n",
        "plt.plot(history.history['accuracy'])\n",
        "plt.plot(history.history['val_accuracy'], 'o')\n",
        "plt.title('model accuracy')\n",
        "plt.ylabel('accuracy')\n",
        "plt.xlabel('epoch')\n",
        "plt.legend(['train', 'test'], loc='upper left')\n",
        "plt.show()"
      ],
      "metadata": {
        "pycharm": {
          "name": "#%%\n"
        },
        "id": "XLbI_lFJGHVs",
        "outputId": "8a393177-9938-466a-8d44-116732ac09c0",
        "colab": {
          "base_uri": "https://localhost:8080/",
          "height": 295
        }
      }
    },
    {
      "cell_type": "code",
      "source": [
        "# summarize history for loss\n",
        "plt.plot(history.history['loss'])\n",
        "plt.plot(history.history['val_loss'], 'o')\n",
        "plt.title('model loss')\n",
        "plt.ylabel('loss')\n",
        "plt.xlabel('epoch')\n",
        "plt.legend(['train', 'test'], loc='upper left')\n",
        "plt.show()"
      ],
      "metadata": {
        "id": "rbOUf6Y06FTl",
        "outputId": "5b3ce32b-c6d7-4dfa-cc23-bc0912a4c34b",
        "colab": {
          "base_uri": "https://localhost:8080/",
          "height": 295
        }
      },
      "execution_count": null,
      "outputs": [
        {
          "output_type": "display_data",
          "data": {
            "text/plain": [
              "<Figure size 432x288 with 1 Axes>"
            ],
            "image/png": "[encoded data removed]"
          },
          "metadata": {
            "needs_background": "light"
          }
        }
      ]
    },
    {
      "cell_type": "markdown",
      "metadata": {
        "pycharm": {
          "name": "#%% md\n"
        },
        "id": "I_AClLtNGHVt"
      },
      "source": [
        "# Evaluate the model with our Test Set Using confusion_matrix"
      ]
    },
    {
      "cell_type": "markdown",
      "source": [
        "-split data to X_test and Y_test\n",
        "-Rescaling training to range 0 to 1 by dividing them by 255"
      ],
      "metadata": {
        "collapsed": false,
        "pycharm": {
          "name": "#%% md\n"
        },
        "id": "7tPnHGxGGHVt"
      }
    },
    {
      "cell_type": "code",
      "execution_count": null,
      "metadata": {
        "pycharm": {
          "name": "#%%\n"
        },
        "id": "jLmdyKgCGHVv",
        "outputId": "de87c9db-9ef1-47f2-eca3-6a2147e37be4",
        "colab": {
          "base_uri": "https://localhost:8080/"
        }
      },
      "outputs": [
        {
          "output_type": "stream",
          "name": "stdout",
          "text": [
            "313/313 [==============================] - 1s 3ms/step - loss: 0.3287 - accuracy: 0.8879\n"
          ]
        },
        {
          "output_type": "execute_result",
          "data": {
            "text/plain": [
              "[0.3287128806114197, 0.8878999948501587]"
            ]
          },
          "metadata": {},
          "execution_count": 314
        }
      ],
      "source": [
        "model.evaluate(X_test, y_test)"
      ]
    },
    {
      "cell_type": "code",
      "source": [
        "y_pred = model.predict(X_test)"
      ],
      "metadata": {
        "id": "IKhl7RIh7Kqp",
        "outputId": "181dfd4c-932f-4c91-8bdb-50421a228b5d",
        "colab": {
          "base_uri": "https://localhost:8080/"
        }
      },
      "execution_count": null,
      "outputs": [
        {
          "output_type": "stream",
          "name": "stdout",
          "text": [
            "313/313 [==============================] - 1s 2ms/step\n"
          ]
        }
      ]
    },
    {
      "cell_type": "code",
      "source": [
        "y_pred = np.argmax(y_pred, axis=1)\n",
        "y_pred[0]"
      ],
      "metadata": {
        "id": "BpyQzbSt7y_F",
        "outputId": "1ced7ffb-b332-4ed5-9098-a559c662bd1a",
        "colab": {
          "base_uri": "https://localhost:8080/"
        }
      },
      "execution_count": null,
      "outputs": [
        {
          "output_type": "execute_result",
          "data": {
            "text/plain": [
              "9"
            ]
          },
          "metadata": {},
          "execution_count": 316
        }
      ]
    },
    {
      "cell_type": "markdown",
      "source": [
        "visualization"
      ],
      "metadata": {
        "collapsed": false,
        "pycharm": {
          "name": "#%% md\n"
        },
        "id": "6jHeYNQaGHVv"
      }
    },
    {
      "cell_type": "code",
      "execution_count": null,
      "metadata": {
        "pycharm": {
          "name": "#%%\n"
        },
        "id": "5scmMQqEGHVw",
        "outputId": "0b3b5979-2a9b-4f1c-dfc6-45365f8ad7ee",
        "colab": {
          "base_uri": "https://localhost:8080/",
          "height": 766
        }
      },
      "outputs": [
        {
          "output_type": "execute_result",
          "data": {
            "text/plain": [
              "[Text(0, 0.5, 'T-shirt/top'),\n",
              " Text(0, 1.5, 'Trouser'),\n",
              " Text(0, 2.5, 'Pullover'),\n",
              " Text(0, 3.5, 'Dress'),\n",
              " Text(0, 4.5, 'Coat'),\n",
              " Text(0, 5.5, 'Sandal'),\n",
              " Text(0, 6.5, 'Shirt'),\n",
              " Text(0, 7.5, 'Sneaker'),\n",
              " Text(0, 8.5, 'Bag'),\n",
              " Text(0, 9.5, 'Ankle boot')]"
            ]
          },
          "metadata": {},
          "execution_count": 317
        },
        {
          "output_type": "display_data",
          "data": {
            "text/plain": [
              "<Figure size 1080x720 with 2 Axes>"
            ],
            "image/png": "[encoded data removed]"
          },
          "metadata": {
            "needs_background": "light"
          }
        }
      ],
      "source": [
        "from sklearn.metrics import confusion_matrix, classification_report\n",
        "\n",
        "fig , ax= plt.subplots(figsize=(15,10))\n",
        "\n",
        "cm = confusion_matrix(y_test, y_pred)\n",
        "\n",
        "sns.heatmap(cm, annot=True , fmt='g', ax=ax)\n",
        "\n",
        "ax.set_xticklabels(class_names)\n",
        "ax.set_yticklabels(class_names)"
      ]
    },
    {
      "cell_type": "markdown",
      "source": [
        "Find classification_report for the prediction"
      ],
      "metadata": {
        "collapsed": false,
        "pycharm": {
          "name": "#%% md\n"
        },
        "id": "1N_4Hwz_GHVx"
      }
    },
    {
      "cell_type": "code",
      "execution_count": null,
      "metadata": {
        "pycharm": {
          "name": "#%%\n"
        },
        "id": "o9LsHPxOGHVx",
        "outputId": "049d569c-a61a-4ac5-9643-1e97a80687fb",
        "colab": {
          "base_uri": "https://localhost:8080/"
        }
      },
      "outputs": [
        {
          "output_type": "stream",
          "name": "stdout",
          "text": [
            "              precision    recall  f1-score   support\n",
            "\n",
            " T-shirt/top       0.85      0.83      0.84      1000\n",
            "     Trouser       1.00      0.97      0.98      1000\n",
            "    Pullover       0.82      0.79      0.80      1000\n",
            "       Dress       0.89      0.91      0.90      1000\n",
            "        Coat       0.80      0.83      0.81      1000\n",
            "      Sandal       0.97      0.97      0.97      1000\n",
            "       Shirt       0.69      0.72      0.70      1000\n",
            "     Sneaker       0.96      0.93      0.94      1000\n",
            "         Bag       0.98      0.97      0.98      1000\n",
            "  Ankle boot       0.93      0.97      0.95      1000\n",
            "\n",
            "    accuracy                           0.89     10000\n",
            "   macro avg       0.89      0.89      0.89     10000\n",
            "weighted avg       0.89      0.89      0.89     10000\n",
            "\n"
          ]
        }
      ],
      "source": [
        "ClassificationReport = classification_report(y_test, y_pred, target_names=class_names)\n",
        "\n",
        "print(ClassificationReport)"
      ]
    },
    {
      "cell_type": "code",
      "execution_count": null,
      "metadata": {
        "pycharm": {
          "name": "#%%\n"
        },
        "id": "FDTtzgCHGHVz"
      },
      "outputs": [],
      "source": []
    }
  ],
  "metadata": {
    "kernelspec": {
      "display_name": "Python 3",
      "language": "python",
      "name": "python3"
    },
    "language_info": {
      "codemirror_mode": {
        "name": "ipython",
        "version": 3
      },
      "file_extension": ".py",
      "mimetype": "text/x-python",
      "name": "python",
      "nbconvert_exporter": "python",
      "pygments_lexer": "ipython3",
      "version": "3.6.6"
    },
    "colab": {
      "provenance": []
    },
    "accelerator": "GPU",
    "gpuClass": "standard"
  },
  "nbformat": 4,
  "nbformat_minor": 0
}